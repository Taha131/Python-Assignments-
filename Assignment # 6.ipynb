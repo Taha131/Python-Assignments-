{
 "cells": [
  {
   "cell_type": "code",
   "execution_count": 1,
   "metadata": {},
   "outputs": [],
   "source": [
    "## 1.Define Object Oriented Programming Language?\n",
    "\n",
    "## Object-oriented programming (OOP) refers to a type of computer programming (software design) \n",
    "## in which programmers define the data type of a data structure, and also the types of operations (functions) \n",
    "## that can be applied to the data structure.\n"
   ]
  },
  {
   "cell_type": "code",
   "execution_count": 2,
   "metadata": {},
   "outputs": [],
   "source": [
    "## 2.List down the Benefits of OOP?\n",
    "\n",
    "\n",
    "## Re-usability. It means reusing some facilities rather than building it again and again.\n",
    "## Data Redundancy.\n",
    "## Code Maintenance.\n",
    "## Security.\n",
    "## Design Benefits.\n",
    "## Better productivity.\n",
    "## Easy troubleshooting.\n",
    "## Polymorphism Flexibility."
   ]
  },
  {
   "cell_type": "code",
   "execution_count": 3,
   "metadata": {},
   "outputs": [],
   "source": [
    "## 3.Differentiate between function and method?\n",
    "\n",
    "## A function is a piece of code that is called by name. It can be passed data to operate on (i.e. the parameters) and \n",
    "## can optionally return data (the return value). \n",
    "## All data that is passed to a function is explicitly passed. \n",
    "## A method is a piece of code that is called by a name that is associated with an object."
   ]
  },
  {
   "cell_type": "code",
   "execution_count": 4,
   "metadata": {},
   "outputs": [],
   "source": [
    "## Define the following terms:\n",
    "## 1. Class\n",
    "## 2. Object\n",
    "## 3. Attribute\n",
    "## 4. Behavior\n",
    "\n",
    "## 1. Class\n",
    "\n",
    "## In object-oriented programming, \n",
    "## a class is a blueprint for creating objects (a particular data structure), \n",
    "## providing initial values for state (member variables or attributes), \n",
    "## and implementations of behavior (member functions or methods). \n",
    "## The user-defined objects are created using the class keyword.\n",
    "\n",
    "## 2. Object\n",
    "\n",
    "## An object is an abstract data type with the addition of polymorphism and inheritance. \n",
    "## Rather than structure programs as code and data, \n",
    "## an object-oriented system integrates the two using the concept of an \"object\". \n",
    "## An object has state (data) and behavior (code).\n",
    "\n",
    "## 3. Attribute\n",
    "\n",
    "## Attributes are data stored inside a class or instance and represent the state or quality of the class or instance. \n",
    "## In short, attributes store information about the instance.\n",
    "\n",
    "## 4. Behavior\n",
    "\n",
    "## The behavior of an object is defined by its methods, \n",
    "## which are the functions and subroutines defined within the object class. \n",
    "## Without class methods, a class would simply be a structure. \n",
    "## Methods determine what type of functionality a class has, how it modifies its data, and its overall behavior"
   ]
  },
  {
   "cell_type": "code",
   "execution_count": null,
   "metadata": {},
   "outputs": [],
   "source": []
  }
 ],
 "metadata": {
  "kernelspec": {
   "display_name": "Python 3",
   "language": "python",
   "name": "python3"
  },
  "language_info": {
   "codemirror_mode": {
    "name": "ipython",
    "version": 3
   },
   "file_extension": ".py",
   "mimetype": "text/x-python",
   "name": "python",
   "nbconvert_exporter": "python",
   "pygments_lexer": "ipython3",
   "version": "3.7.4"
  }
 },
 "nbformat": 4,
 "nbformat_minor": 2
}
